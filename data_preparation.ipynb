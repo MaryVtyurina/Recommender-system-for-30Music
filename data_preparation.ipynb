{
 "cells": [
  {
   "cell_type": "markdown",
   "metadata": {},
   "source": [
    "# Data preparation\n",
    "## Artist recomendation task for 30Music dataset "
   ]
  },
  {
   "cell_type": "markdown",
   "metadata": {},
   "source": [
    "1. Parse data: persons.idomaar, sessions.idomaar, tracks.idomaar"
   ]
  },
  {
   "cell_type": "code",
   "execution_count": 2,
   "metadata": {},
   "outputs": [],
   "source": [
    "import pandas as pd\n",
    "import os, sys, csv, json\n",
    "import numpy as np\n",
    "import pandas as pd"
   ]
  },
  {
   "cell_type": "markdown",
   "metadata": {},
   "source": [
    "### Persons"
   ]
  },
  {
   "cell_type": "code",
   "execution_count": 154,
   "metadata": {},
   "outputs": [],
   "source": [
    "data_dir = 'ThirtyMusic/entities'\n",
    "relations_dir = 'ThirtyMusic/relations'\n",
    "artists_path = os.path.join(data_dir, 'persons.idomaar')\n",
    "artists_path_csv = os.path.join(data_dir, 'persons.csv')\n",
    "artists = pd.read_csv(artists_path, delimiter='\\t', header=None)\n",
    "artists.columns = ['Type', 'ID', 'Timestamp', 'Properties', 'LinkedEntities']"
   ]
  },
  {
   "cell_type": "code",
   "execution_count": 155,
   "metadata": {},
   "outputs": [
    {
     "data": {
      "text/html": [
       "<div>\n",
       "<style scoped>\n",
       "    .dataframe tbody tr th:only-of-type {\n",
       "        vertical-align: middle;\n",
       "    }\n",
       "\n",
       "    .dataframe tbody tr th {\n",
       "        vertical-align: top;\n",
       "    }\n",
       "\n",
       "    .dataframe thead th {\n",
       "        text-align: right;\n",
       "    }\n",
       "</style>\n",
       "<table border=\"1\" class=\"dataframe\">\n",
       "  <thead>\n",
       "    <tr style=\"text-align: right;\">\n",
       "      <th></th>\n",
       "      <th>Type</th>\n",
       "      <th>MBID</th>\n",
       "      <th>Name</th>\n",
       "    </tr>\n",
       "    <tr>\n",
       "      <th>ID</th>\n",
       "      <th></th>\n",
       "      <th></th>\n",
       "      <th></th>\n",
       "    </tr>\n",
       "  </thead>\n",
       "  <tbody>\n",
       "    <tr>\n",
       "      <th>145148</th>\n",
       "      <td>person</td>\n",
       "      <td>NaN</td>\n",
       "      <td>Everything+Is+Illuminated</td>\n",
       "    </tr>\n",
       "    <tr>\n",
       "      <th>297899</th>\n",
       "      <td>person</td>\n",
       "      <td>NaN</td>\n",
       "      <td>Robin+O%27Brien</td>\n",
       "    </tr>\n",
       "    <tr>\n",
       "      <th>250429</th>\n",
       "      <td>person</td>\n",
       "      <td>NaN</td>\n",
       "      <td>Nicholas+Gunn++(2012)</td>\n",
       "    </tr>\n",
       "    <tr>\n",
       "      <th>32765</th>\n",
       "      <td>person</td>\n",
       "      <td>NaN</td>\n",
       "      <td>Aspasia+Stratigou</td>\n",
       "    </tr>\n",
       "    <tr>\n",
       "      <th>18689</th>\n",
       "      <td>person</td>\n",
       "      <td>NaN</td>\n",
       "      <td>Allison+Veltz</td>\n",
       "    </tr>\n",
       "  </tbody>\n",
       "</table>\n",
       "</div>"
      ],
      "text/plain": [
       "          Type MBID                       Name\n",
       "ID                                            \n",
       "145148  person  NaN  Everything+Is+Illuminated\n",
       "297899  person  NaN            Robin+O%27Brien\n",
       "250429  person  NaN      Nicholas+Gunn++(2012)\n",
       "32765   person  NaN          Aspasia+Stratigou\n",
       "18689   person  NaN              Allison+Veltz"
      ]
     },
     "execution_count": 155,
     "metadata": {},
     "output_type": "execute_result"
    }
   ],
   "source": [
    "def parse_artist_properties(props): \n",
    "    props = props.replace(';', ',')\n",
    "    try:\n",
    "        prop = json.loads(props)\n",
    "    except:\n",
    "        print(props)\n",
    "        sys.exit(0)\n",
    "    return pd.Series({'MBID': prop['MBID'], 'Name': prop['name']})\n",
    "\n",
    "artists_prop = artists['Properties'].apply(lambda s: parse_artist_properties(s))\n",
    "artists.sort_index(inplace=True)\n",
    "artists = artists.merge(artists_prop, left_index=True, right_index=True)\n",
    "artists.drop(columns = ['Timestamp', 'Properties', 'LinkedEntities'], inplace = True)\n",
    "artists.drop_duplicates('ID', inplace = True)\n",
    "artists = artists.set_index('ID')\n",
    "\n",
    "artists.to_csv(artists_path_csv, sep=';', header=False)\n",
    "artists.head()"
   ]
  },
  {
   "cell_type": "markdown",
   "metadata": {},
   "source": [
    "### Tracks"
   ]
  },
  {
   "cell_type": "code",
   "execution_count": 68,
   "metadata": {},
   "outputs": [],
   "source": [
    "tracks_path = os.path.join(data_dir, 'tracks.idomaar')\n",
    "tracks_csv_path = os.path.join(data_dir, 'tracks.csv')"
   ]
  },
  {
   "cell_type": "code",
   "execution_count": 50,
   "metadata": {},
   "outputs": [],
   "source": [
    "prop_columns = ['Duration', 'Playcount', 'MBID', 'Name']\n",
    "entity_columns = ['ArtistsID', 'AlbumsID', 'TagsID']\n",
    "\n",
    "def parse_track_properties(props):\n",
    "    try:\n",
    "        props = props.replace(';', ',')\n",
    "        prop = json.loads(props)\n",
    "    except:\n",
    "        print(props)\n",
    "        sys.exit(0)\n",
    "    return pd.Series({'Duration': prop['duration'], 'Playcount': prop['playcount'], \\\n",
    "                      'MBID': prop['MBID'], 'Name': prop['name']})\n",
    "\n",
    "def parse_track_entities(entities):\n",
    "    try:\n",
    "        entities = entities.replace(';', ',')\n",
    "        entity = json.loads(entities)\n",
    "    except:\n",
    "        print(entities)\n",
    "        sys.exit(0)\n",
    "    return pd.Series({\n",
    "        'ArtistsID': ','.join([str(x['id']) for x in entity['artists']]) if \\\n",
    "                               entity['artists'] is not None and len(entity['artists']) > 0 else None,\n",
    "        'AlbumsID': ','.join([str(x['id']) for x in entity['albums']]) if \\\n",
    "                              entity['albums'] is not None and len(entity['albums']) > 0 else None,\n",
    "        'TagsID': ','.join([str(x['id']) for x in entity['tags']]) if \\\n",
    "                            entity['tags'] is not None and len(entity['tags']) > 0 else None})\n",
    "\n",
    "def process_chunk(df, i, path):\n",
    "    tracks_prop = df['Properties'].apply(lambda s: parse_track_properties(s))\n",
    "    tracks_ent = df['LinkedEntities'].apply(lambda s: parse_track_entities(s))\n",
    "    df.drop(['LinkedEntities', 'Properties', 'Timestamp' ], axis=1, inplace=True)\n",
    "    df_new = df.merge(tracks_prop, left_index=True, right_index=True)\n",
    "    df_new = df_new.merge(tracks_ent, left_index=True, right_index=True)\n",
    "    df_new = df_new.drop_duplicates()\n",
    "    if i == 0:\n",
    "        df_new.to_csv(path, sep=';')\n",
    "    else:\n",
    "        df_new.to_csv(path, mode='a', sep=';', header=False)"
   ]
  },
  {
   "cell_type": "markdown",
   "metadata": {},
   "source": [
    "I don't have a lot of memory that's why I had to process all the big files in chunks"
   ]
  },
  {
   "cell_type": "code",
   "execution_count": 65,
   "metadata": {},
   "outputs": [],
   "source": [
    "iteration = 0\n",
    "chunksize = 10**4\n",
    "\n",
    "for chunk in pd.read_csv(tracks_path, header=None, delimiter='\\t', chunksize=chunksize):\n",
    "    chunk.columns = ['Type', 'ID', 'Timestamp', 'Properties', 'LinkedEntities']\n",
    "    chunk.set_index('ID', inplace=True)\n",
    "    process_chunk(chunk, iteration, tracks_csv_path)\n",
    "    iteration += 1"
   ]
  },
  {
   "cell_type": "code",
   "execution_count": 73,
   "metadata": {},
   "outputs": [],
   "source": [
    "tracks_df = pd.read_csv(tracks_csv_path, index_col='ID', sep=';')"
   ]
  },
  {
   "cell_type": "markdown",
   "metadata": {},
   "source": [
    "### Sessions"
   ]
  },
  {
   "cell_type": "code",
   "execution_count": 115,
   "metadata": {},
   "outputs": [],
   "source": [
    "sessions_path = os.path.join(relations_dir, 'sessions.idomaar')\n",
    "sessions_path_csv = os.path.join(relations_dir, 'sessions_.csv')"
   ]
  },
  {
   "cell_type": "code",
   "execution_count": 116,
   "metadata": {},
   "outputs": [],
   "source": [
    "def parse_session_entities(session, tracks):\n",
    "    _, entities = session.split(' ')[0], session.split(' ')[1]\n",
    "    try:\n",
    "        entities = entities.replace(';', ',')\n",
    "        entity = json.loads(entities)\n",
    "        artists = []\n",
    "        if entity['objects'] is not None and len(entity['objects']) > 0:\n",
    "            for x in entity['objects']:\n",
    "                try:\n",
    "                    track_id = tracks.loc[x['id']]\n",
    "                    artist_id = track_id['ArtistsID']\n",
    "                    if not np.isnan(artist_id):\n",
    "                        artists.append(str(int(artist_id)))\n",
    "                except KeyError:\n",
    "                    pass        \n",
    "    except:\n",
    "        sys.exit(0)\n",
    "    return pd.Series({\n",
    "        'UserId': x['id'] if entity['subjects'] is not None and len(entity['subjects']) > 0 else None,\n",
    "        'ArtistsID': ','.join(artists)})\n",
    "\n",
    "def process(df, iteration_num, tracks_df, fname):\n",
    "    session_ent = df['LinkedEntities'].apply(lambda s: parse_session_entities(s, tracks = tracks_df))\n",
    "    df.drop(['LinkedEntities'], axis=1, inplace=True)\n",
    "    df_new = df.merge(session_ent, left_index=True, right_index=True)\n",
    "    print(df_new.columns)\n",
    "    if iteration_num == 0:\n",
    "        df_new.to_csv(fname, sep=';')\n",
    "    else:\n",
    "        df_new.to_csv(fname, mode='a', sep=';', header=False)\n",
    "    return df_new"
   ]
  },
  {
   "cell_type": "code",
   "execution_count": 117,
   "metadata": {},
   "outputs": [
    {
     "name": "stdout",
     "output_type": "stream",
     "text": [
      "Index(['Type', 'Timestamp', 'UserId', 'ArtistsID'], dtype='object')\n",
      "1\n"
     ]
    }
   ],
   "source": [
    "iteration = 0\n",
    "chunksize = 10**2\n",
    "for chunk in pd.read_csv(sessions_path, header=None, delimiter='\\t', chunksize=chunksize):\n",
    "    chunk.columns = ['Type', 'ID', 'Timestamp', 'LinkedEntities']\n",
    "    chunk.set_index('ID', inplace=True)\n",
    "    df_new = process(chunk, iteration, tracks_df, fname = sessions_path_csv,)\n",
    "    iteration += 1"
   ]
  },
  {
   "cell_type": "code",
   "execution_count": 126,
   "metadata": {},
   "outputs": [
    {
     "data": {
      "text/html": [
       "<div>\n",
       "<style scoped>\n",
       "    .dataframe tbody tr th:only-of-type {\n",
       "        vertical-align: middle;\n",
       "    }\n",
       "\n",
       "    .dataframe tbody tr th {\n",
       "        vertical-align: top;\n",
       "    }\n",
       "\n",
       "    .dataframe thead th {\n",
       "        text-align: right;\n",
       "    }\n",
       "</style>\n",
       "<table border=\"1\" class=\"dataframe\">\n",
       "  <thead>\n",
       "    <tr style=\"text-align: right;\">\n",
       "      <th></th>\n",
       "      <th>ID</th>\n",
       "      <th>Type</th>\n",
       "      <th>Timestamp</th>\n",
       "      <th>UserId</th>\n",
       "      <th>ArtistsID</th>\n",
       "    </tr>\n",
       "  </thead>\n",
       "  <tbody>\n",
       "    <tr>\n",
       "      <th>0</th>\n",
       "      <td>287144</td>\n",
       "      <td>event.session</td>\n",
       "      <td>1390231051</td>\n",
       "      <td>4698881</td>\n",
       "      <td>107103,324333,344448,309348,103824,324389,3122...</td>\n",
       "    </tr>\n",
       "    <tr>\n",
       "      <th>1</th>\n",
       "      <td>287145</td>\n",
       "      <td>event.session</td>\n",
       "      <td>1390241844</td>\n",
       "      <td>249947</td>\n",
       "      <td>54522,308305,250603,240350,346954,165867,42954...</td>\n",
       "    </tr>\n",
       "    <tr>\n",
       "      <th>2</th>\n",
       "      <td>287146</td>\n",
       "      <td>event.session</td>\n",
       "      <td>1390303249</td>\n",
       "      <td>2897013</td>\n",
       "      <td>49682,238975,206918,15622,139310,70816,112477,...</td>\n",
       "    </tr>\n",
       "    <tr>\n",
       "      <th>3</th>\n",
       "      <td>287147</td>\n",
       "      <td>event.session</td>\n",
       "      <td>1390481828</td>\n",
       "      <td>1876964</td>\n",
       "      <td>285794,167729,75306,235220</td>\n",
       "    </tr>\n",
       "    <tr>\n",
       "      <th>4</th>\n",
       "      <td>287140</td>\n",
       "      <td>event.session</td>\n",
       "      <td>1421443687</td>\n",
       "      <td>375509</td>\n",
       "      <td>46425,46425</td>\n",
       "    </tr>\n",
       "  </tbody>\n",
       "</table>\n",
       "</div>"
      ],
      "text/plain": [
       "       ID           Type   Timestamp   UserId  \\\n",
       "0  287144  event.session  1390231051  4698881   \n",
       "1  287145  event.session  1390241844   249947   \n",
       "2  287146  event.session  1390303249  2897013   \n",
       "3  287147  event.session  1390481828  1876964   \n",
       "4  287140  event.session  1421443687   375509   \n",
       "\n",
       "                                           ArtistsID  \n",
       "0  107103,324333,344448,309348,103824,324389,3122...  \n",
       "1  54522,308305,250603,240350,346954,165867,42954...  \n",
       "2  49682,238975,206918,15622,139310,70816,112477,...  \n",
       "3                         285794,167729,75306,235220  \n",
       "4                                        46425,46425  "
      ]
     },
     "execution_count": 126,
     "metadata": {},
     "output_type": "execute_result"
    }
   ],
   "source": [
    "sessions = pd.read_csv(sessions_path_csv, sep=';')\n",
    "sessions.head()"
   ]
  },
  {
   "cell_type": "markdown",
   "metadata": {},
   "source": [
    "\n"
   ]
  },
  {
   "cell_type": "code",
   "execution_count": null,
   "metadata": {},
   "outputs": [],
   "source": []
  }
 ],
 "metadata": {
  "kernelspec": {
   "display_name": "Python 3",
   "language": "python",
   "name": "python3"
  },
  "language_info": {
   "codemirror_mode": {
    "name": "ipython",
    "version": 3
   },
   "file_extension": ".py",
   "mimetype": "text/x-python",
   "name": "python",
   "nbconvert_exporter": "python",
   "pygments_lexer": "ipython3",
   "version": "3.7.3"
  }
 },
 "nbformat": 4,
 "nbformat_minor": 2
}
